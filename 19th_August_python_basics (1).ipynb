{
  "nbformat": 4,
  "nbformat_minor": 0,
  "metadata": {
    "colab": {
      "provenance": []
    },
    "kernelspec": {
      "name": "python3",
      "display_name": "Python 3"
    },
    "language_info": {
      "name": "python"
    }
  },
  "cells": [
    {
      "cell_type": "code",
      "source": [
        "#TOPIC: Python Basic Variable"
      ],
      "metadata": {
        "id": "3z2YNKdwwBHH"
      },
      "execution_count": 2,
      "outputs": []
    },
    {
      "cell_type": "code",
      "source": [
        "#Ques1\n",
        "\n",
        "x = 10\n",
        "y = 5\n",
        "\n",
        "temp = x\n",
        "x = y\n",
        "y = temp\n",
        "\n",
        "print('The value of x after swapping: {}' .format(x))\n",
        "print('The value of y after swapping: {}' .format(y))\n"
      ],
      "metadata": {
        "colab": {
          "base_uri": "https://localhost:8080/"
        },
        "id": "rWTSq4wbwUob",
        "outputId": "cae88594-bdf4-4641-b211-4db6f8ffd149"
      },
      "execution_count": 3,
      "outputs": [
        {
          "output_type": "stream",
          "name": "stdout",
          "text": [
            "The value of x after swapping: 5\n",
            "The value of y after swapping: 10\n"
          ]
        }
      ]
    },
    {
      "cell_type": "code",
      "source": [
        "#Ques2\n",
        "\n",
        "length = int(input(\"Enter the length: \"))\n",
        "breath = int(input(\"Enter the breath: \"))\n",
        "\n",
        "area = length * breath\n",
        "\n",
        "print(\"The area of rectangle using\" , length , \"and\" , breath , \"=\" , area)\n"
      ],
      "metadata": {
        "colab": {
          "base_uri": "https://localhost:8080/"
        },
        "id": "ZWSmHc8qxF1C",
        "outputId": "2583dbe3-957a-47db-ddc0-db0cd005d5ad"
      },
      "execution_count": 4,
      "outputs": [
        {
          "output_type": "stream",
          "name": "stdout",
          "text": [
            "Enter the length: 4\n",
            "Enter the breath: 3\n",
            "The area of rectangle using 4 and 3 = 12\n"
          ]
        }
      ]
    },
    {
      "cell_type": "code",
      "source": [
        "#Ques3:\n",
        "\n",
        "celsius = int(input(\"Enter the temperature: \"))\n",
        "\n",
        "fahrenheit = (1.8 * celsius) + 32\n",
        "\n",
        "print(\"Temperature in fahrenheit:\" , fahrenheit)"
      ],
      "metadata": {
        "colab": {
          "base_uri": "https://localhost:8080/"
        },
        "id": "e4_LIzYpyTOV",
        "outputId": "918c3898-becf-4561-9a65-e6e52ba76458"
      },
      "execution_count": 7,
      "outputs": [
        {
          "output_type": "stream",
          "name": "stdout",
          "text": [
            "Enter the temperature: 102\n",
            "Temperature in fahrenheit: 215.6\n"
          ]
        }
      ]
    },
    {
      "cell_type": "code",
      "source": [
        "#TOPIC: String based questions"
      ],
      "metadata": {
        "id": "925HoTsuy7Kx"
      },
      "execution_count": 8,
      "outputs": []
    },
    {
      "cell_type": "code",
      "source": [
        "#Ques1:\n",
        "\n",
        "string = str(input(\"Enter string: \"))\n",
        "count = 0\n",
        "for i in string:\n",
        "     count = count + 1\n",
        "print(\"Length of the string is: \")\n",
        "print(count)\n"
      ],
      "metadata": {
        "colab": {
          "base_uri": "https://localhost:8080/"
        },
        "id": "yGtZ9dkKzg4m",
        "outputId": "bfa9facf-3959-4ce6-e312-2102335116d4"
      },
      "execution_count": 9,
      "outputs": [
        {
          "output_type": "stream",
          "name": "stdout",
          "text": [
            "Enter string: Sanyogita Singh\n",
            "Length of the string is: \n",
            "15\n"
          ]
        }
      ]
    },
    {
      "cell_type": "code",
      "source": [
        "#Ques2:\n",
        "\n",
        "string = input(\"Enter a string: \")\n",
        "count = 0\n",
        "for i in string:\n",
        "    if i=='a' or i=='e' or i=='i' or i=='o' or i=='u'or i=='A' or i=='E' or i=='I' or i=='O' or i=='U':\n",
        "      count+=1\n",
        "if count == 0:\n",
        "  print(\"No vowels found\")\n",
        "else:\n",
        "  print(\"Numberof vowels are:\" + str(count))"
      ],
      "metadata": {
        "colab": {
          "base_uri": "https://localhost:8080/"
        },
        "id": "TrRA3Tlx0Lho",
        "outputId": "d1a0ae04-2d2a-4f79-deb2-2a8ade3b5e93"
      },
      "execution_count": 28,
      "outputs": [
        {
          "output_type": "stream",
          "name": "stdout",
          "text": [
            "Enter a string: pwskills\n",
            "Numberof vowels are:1\n"
          ]
        }
      ]
    },
    {
      "cell_type": "code",
      "source": [
        "#Ques3:\n",
        "\n",
        "def my_function(x):\n",
        "    return x[ : :-1]\n",
        "\n",
        "mytext = my_function(\"I am going for a picnic tomorrow\")\n",
        "\n",
        "print(mytext)"
      ],
      "metadata": {
        "colab": {
          "base_uri": "https://localhost:8080/"
        },
        "id": "mChTr0ri5qEC",
        "outputId": "aedf6abd-0524-4ce3-c9f3-eeadb9f34f49"
      },
      "execution_count": 17,
      "outputs": [
        {
          "output_type": "stream",
          "name": "stdout",
          "text": [
            "worromot cincip a rof gniog ma I\n"
          ]
        }
      ]
    },
    {
      "cell_type": "code",
      "source": [
        "#Ques4:\n",
        "\n",
        "def check_plain(str):\n",
        "        for i in range(0, int (len (str)/2)):\n",
        "          if str [i] != str [len (str) -i-1]:\n",
        "                   return False\n",
        "          return True\n",
        "str_1 = input(\"Enter a string.\")\n",
        "ans = check_plain (str_1)\n",
        "if(ans):\n",
        "       print(\"The string is a palindrome. \")\n",
        "else:\n",
        "            print(\"The string is not a palindrome\")"
      ],
      "metadata": {
        "colab": {
          "base_uri": "https://localhost:8080/"
        },
        "id": "9myElrXj63Js",
        "outputId": "aac36ea8-8cd9-4b84-bd30-d91e6033d45c"
      },
      "execution_count": 29,
      "outputs": [
        {
          "output_type": "stream",
          "name": "stdout",
          "text": [
            "Enter a string.madam\n",
            "The string is a palindrome. \n"
          ]
        }
      ]
    },
    {
      "cell_type": "code",
      "source": [
        "#Ques5:\n",
        "\n",
        "test_str = \"The world is             beautiful\"\n",
        "print(\"The original string is :\" + test_str)\n",
        "res = \" \".join(test_str.split())\n",
        "print(\"The string after extra space removal: \" + str(res))"
      ],
      "metadata": {
        "colab": {
          "base_uri": "https://localhost:8080/"
        },
        "id": "McXCNjDq8Ekk",
        "outputId": "98047a1f-1746-4d04-ca68-5138979700f9"
      },
      "execution_count": 21,
      "outputs": [
        {
          "output_type": "stream",
          "name": "stdout",
          "text": [
            "The original string is :The world is             beautiful\n",
            "The string after extra space removal: The world is beautiful\n"
          ]
        }
      ]
    },
    {
      "cell_type": "code",
      "source": [],
      "metadata": {
        "id": "2KNJynxF91FI"
      },
      "execution_count": null,
      "outputs": []
    }
  ]
}